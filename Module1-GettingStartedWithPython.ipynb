{
 "cells": [
  {
   "attachments": {},
   "cell_type": "markdown",
   "metadata": {},
   "source": [
    "Module 1 - Getting Started With Python [Assignments]"
   ]
  },
  {
   "attachments": {},
   "cell_type": "markdown",
   "metadata": {},
   "source": [
    "Assignment 1 :: Input the values of a and b as 10 and 20 respectively. Now check if a is greater or b is greater\n",
    "using if condition. Think about all the edge cases, and print the statements accordingly."
   ]
  },
  {
   "cell_type": "code",
   "execution_count": null,
   "metadata": {},
   "outputs": [],
   "source": [
    "#Assignment 1 \n",
    "#Find The Greatest Number Among Two Numbers\n",
    "\n",
    "#Taking The Inputs From The User\n",
    "a = int(input(\"Enter A Number\"))\n",
    "b = int(input(\"Enter Another Number\"))\n",
    "\n",
    "#The if-else conditions\n",
    "if a > b:\n",
    "    print(\"a is greater than b\")\n",
    "elif a == b:\n",
    "    print(\"a and b are equal\")\n",
    "else:\n",
    "    print(\"b is greater than a\")"
   ]
  },
  {
   "attachments": {},
   "cell_type": "markdown",
   "metadata": {},
   "source": [
    "Assignment 2 :: Take three user inputs and print the greatest number from those inputs using if-else\n",
    "condition. Edge cases if any, should also be handled."
   ]
  },
  {
   "cell_type": "code",
   "execution_count": null,
   "metadata": {},
   "outputs": [],
   "source": [
    "#Assignment 2\n",
    "#Find The Greatest Number Among Thee Numbers\n",
    "\n",
    "#Taking The Inputs From The User\n",
    "a = int(input(\"Enter A Number\"))\n",
    "b = int(input(\"Enter Another Number\"))\n",
    "c = int(input(\"Enter Another Number\"))\n",
    "\n",
    "# The if-else conditions\n",
    "if a > b  and b>c:\n",
    "    print(\"A is Greatest\")\n",
    "elif b>a and a>c :\n",
    "    print(\"B is Greatest\")\n",
    "elif b==a and a>c :\n",
    "    print(\"A and B are equal and Greatest\")\n",
    "elif b==c and c>a :\n",
    "    print(\"B And C Are Same And Greatest\")\n",
    "elif a==c and c>b :\n",
    "    print(\"A and C are Same And Greatest\")\n",
    "else :\n",
    "    print(\"C is Greatest\")"
   ]
  },
  {
   "attachments": {},
   "cell_type": "markdown",
   "metadata": {},
   "source": [
    "Assignment 3 :: Print the numbers from 1 to 10 using while loop."
   ]
  },
  {
   "cell_type": "code",
   "execution_count": null,
   "metadata": {},
   "outputs": [],
   "source": [
    "#Assignment 3\n",
    "#Print Numbers From 1 to 10 Using While Loop\n",
    "\n",
    "#Defining The Term\n",
    "num = 1 \n",
    "\n",
    "while num <= 10:\n",
    "    print (num)\n",
    "    num += 1"
   ]
  },
  {
   "attachments": {},
   "cell_type": "markdown",
   "metadata": {},
   "source": [
    "Assignment 4 :: Create a list that is having 10,23,4,26,4,75,24,54 values and with the help of while loop, fetch\n",
    "the even numbers and print the numbers. "
   ]
  },
  {
   "cell_type": "code",
   "execution_count": null,
   "metadata": {},
   "outputs": [],
   "source": [
    "#Assignment 4\n",
    "#Fetch Even Numbers from list \n",
    "\n",
    "# create the list\n",
    "my_list = [10, 23, 4, 26, 4, 75, 24, 54]\n",
    "\n",
    "# initialize index variable\n",
    "i = 0\n",
    "\n",
    "# loop through the list using while loop\n",
    "while i < len(my_list):\n",
    "    # check if the current element is even\n",
    "    if my_list[i] % 2 == 0:\n",
    "        # print the even number\n",
    "        print(my_list[i])\n",
    "    # increment the index variable\n",
    "    i += 1"
   ]
  },
  {
   "attachments": {},
   "cell_type": "markdown",
   "metadata": {},
   "source": [
    "Assignment 5 :: Create an array that is having user defined inputs and with the help of for loop, fetch all the prime\n",
    "numbers and print the numbers."
   ]
  },
  {
   "cell_type": "code",
   "execution_count": null,
   "metadata": {},
   "outputs": [],
   "source": [
    "#Assignment 5\n",
    "#Create an array that is having user defined inputs and with the help of for loop, fetch all the prime numbers and print the numbers.\n",
    "\n",
    "# function to check if a number is prime or not\n",
    "def is_prime(num):\n",
    "    if num < 2:\n",
    "        return False\n",
    "    for i in range(2, int(num/2)+1):\n",
    "        if num % i == 0:\n",
    "            return False\n",
    "    return True\n",
    "\n",
    "# create an empty list to store user inputs\n",
    "user_input = []\n",
    "\n",
    "# ask the user to input numbers and append them to the list\n",
    "while True:\n",
    "    num = input(\"Enter a number (press 'q' to quit): \")\n",
    "    if num.lower() == 'q':\n",
    "        break\n",
    "    user_input.append(int(num))\n",
    "\n",
    "# loop through the list using a for loop and check if the number is prime\n",
    "for num in user_input:\n",
    "    if is_prime(num):\n",
    "        print(num)"
   ]
  },
  {
   "attachments": {},
   "cell_type": "markdown",
   "metadata": {},
   "source": [
    "CASE STUDY 1 ::\n",
    "\n",
    "1. Create a list containing squares of numbers from 1 to 10 (HINT: use List Comprehension).\n",
    "2. Write a Function to check if year number is a leap year.\n",
    "3. Write a Function to take an array and return another array that contains the members of first\n",
    "array that are even.\n",
    "4. Write a Function that takes 2 arrays and prints the members of first array that are present of second array. (HINT: use Membership Comprehension)"
   ]
  },
  {
   "cell_type": "code",
   "execution_count": null,
   "metadata": {},
   "outputs": [],
   "source": [
    "#Case Study - Project 1\n",
    "\n",
    "#Create A List With Squares From 1 to 10\n",
    "list1 = [1,4,9,16,25,36,49,64,81,100]\n",
    "print(list1)\n",
    "\n",
    "\n",
    "#To Check Whether Leap Year Or Not\n",
    "year = int(input(\"Enter The Year\"))\n",
    "def leapyear (year):\n",
    "    if year % 400 != 0:\n",
    "        return True\n",
    "    else :\n",
    "        return False\n",
    "print (leapyear(year))\n",
    "\n",
    "    \n",
    "#Return Another Array With Even Numbers\n",
    "arr = [1,14,34,56,23,98]\n",
    "\n",
    "def even_numbers(arr):\n",
    "    return [num for num in arr if num % 2 == 0]\n",
    "print(even_numbers(arr))\n",
    "\n",
    "\n",
    "#Printing Common Elements\n",
    "arr1 = [1, 2, 3, 4, 5]\n",
    "arr2 = [3, 5, 7, 9]\n",
    "\n",
    "def print_common_elements(arr1, arr2):\n",
    "\n",
    "    for elem in arr1:\n",
    "        if elem in arr2:\n",
    "            print(elem)\n",
    "print_common_elements(arr1, arr2)"
   ]
  },
  {
   "attachments": {},
   "cell_type": "markdown",
   "metadata": {},
   "source": [
    "CASE STUDY 2 :: \n",
    "\n",
    "1. Create 1st tuple with values -> (10,20,30), 2nd tuple with values -> (40,50,60).\n",
    "    a. Concatenate the two tuples and store it in “t_combine”\n",
    "    b. Repeat the elements of “t_combine” 3 times\n",
    "    c. Access the 3rd element from “t_combine”\n",
    "    d. Access the first three elements from “t_combine”\n",
    "    e. Access the last three elements from “t_combine”\n",
    "2. Create a list ‘my_list’ with these elements:\n",
    "    a. First element is a tuple with values 1,2,3\n",
    "    b. Second element is a tuple with values “a”,”b”,”c”\n",
    "    c. Third element is a tuple with values True,False\n",
    "3. Append a new tuple – (1,’a’,True) to ‘my_list’\n",
    "    a. Append a new list – *“sparta”,123+ to my_list\n",
    "4. Create a dictionary ‘fruit’ where:\n",
    "    a. The first key is ‘Fruit’ and the values are (“Apple”,”Banana”,”Mango”,”Guava”)\n",
    "    b. The second key is ‘Cost’ and the values are (85,54,120,70)\n",
    "    c. Extract all the keys from ‘fruit’\n",
    "    d. Extract all the values from ‘fruit’\n",
    "5. Crete a set named ‘my_set’ with values (1,1,”a”,”a”,True,True) and print the result\n"
   ]
  },
  {
   "cell_type": "code",
   "execution_count": null,
   "metadata": {},
   "outputs": [],
   "source": [
    "#Case Study - Project 2\n",
    "\n",
    "#Tuple Question\n",
    "tup1 = (10,20,30)\n",
    "tup2 = (40,50,60)\n",
    "#Combiniing Tuples\n",
    "t_combine = tup1+tup2\n",
    "print(t_combine)\n",
    "#Repeating 3 times\n",
    "repeat_t=t_combine*3\n",
    "print(repeat_t)\n",
    "#Acess Third Element\n",
    "print(t_combine[2])\n",
    "#Print First 3 Elements\n",
    "print(t_combine[0:3])\n",
    "#Printing Last 3 Elements\n",
    "print (t_combine[3:])\n",
    "\n",
    "\n",
    "#List Question\n",
    "tupa = (1,2,3)\n",
    "tupb = (\"a\",\"b\",\"c\")\n",
    "tupc = (\"True\", \"False\")\n",
    "my_list = [tupa,tupb,tupc]\n",
    "#Add another Tuple\n",
    "tupd=(\"Sparta\",123)\n",
    "my_list.append(tupd)\n",
    "print(my_list)\n",
    "\n",
    "#Dictionary Question\n",
    "\n",
    "fruit = {\n",
    "    \"Fruit\" : \"Apple,Banana,Mango,Guava\",\n",
    "    #Second Key\n",
    "    \"Cost\" : \"85,54,120,70\"\n",
    "}\n",
    "#Keys\n",
    "keys = fruit.keys()\n",
    "print(keys)\n",
    "#Values\n",
    "value = fruit.values()\n",
    "print(value)\n",
    "\n",
    "#Set Question\n",
    "my_set = {1,1,\"a\",\"a\",True,True}\n",
    "print(my_set)\n",
    "#Output 1 , a, True--> As Set Deletes The Duplicate Values"
   ]
  }
 ],
 "metadata": {
  "kernelspec": {
   "display_name": "Python 3",
   "language": "python",
   "name": "python3"
  },
  "language_info": {
   "codemirror_mode": {
    "name": "ipython",
    "version": 3
   },
   "file_extension": ".py",
   "mimetype": "text/x-python",
   "name": "python",
   "nbconvert_exporter": "python",
   "pygments_lexer": "ipython3",
   "version": "3.10.10"
  },
  "orig_nbformat": 4,
  "vscode": {
   "interpreter": {
    "hash": "aee8b7b246df8f9039afb4144a1f6fd8d2ca17a180786b69acc140d282b71a49"
   }
  }
 },
 "nbformat": 4,
 "nbformat_minor": 2
}
